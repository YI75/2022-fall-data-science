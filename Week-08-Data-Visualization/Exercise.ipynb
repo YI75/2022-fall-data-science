{
 "cells": [
  {
   "cell_type": "code",
   "execution_count": 2,
   "id": "cc2138ea",
   "metadata": {},
   "outputs": [
    {
     "name": "stderr",
     "output_type": "stream",
     "text": [
      "'ls' is not recognized as an internal or external command,\n",
      "operable program or batch file.\n"
     ]
    }
   ],
   "source": [
    "! ls data/\n"
   ]
  },
  {
   "cell_type": "markdown",
   "id": "9cca801f",
   "metadata": {},
   "source": [
    "# Using budget-sample.csv\n",
    "* Plot a histogram of the base_salary.  Write one sentence about what this tells you about base salaries.\n",
    "* Make a boxplot of base salaries, what does this tell you about base salaries?\n",
    "* Make a boxplot of base salaries per (or by) work_location_borough, what does this tell you about the difference in working in each location?\n",
    "* Make a plot visualizing the difference average base salaries based on agency_name.  Who would you want to work for based on this information?\n",
    "<br><br>\n",
    "* __Tell me something new, cool, and interesting about this data__\n"
   ]
  },
  {
   "cell_type": "code",
   "execution_count": 3,
   "id": "0b39cf6f",
   "metadata": {},
   "outputs": [
    {
     "data": {
      "text/html": [
       "<div>\n",
       "<style scoped>\n",
       "    .dataframe tbody tr th:only-of-type {\n",
       "        vertical-align: middle;\n",
       "    }\n",
       "\n",
       "    .dataframe tbody tr th {\n",
       "        vertical-align: top;\n",
       "    }\n",
       "\n",
       "    .dataframe thead th {\n",
       "        text-align: right;\n",
       "    }\n",
       "</style>\n",
       "<table border=\"1\" class=\"dataframe\">\n",
       "  <thead>\n",
       "    <tr style=\"text-align: right;\">\n",
       "      <th></th>\n",
       "      <th>fiscal_year</th>\n",
       "      <th>payroll_number</th>\n",
       "      <th>agency_name</th>\n",
       "      <th>last_name</th>\n",
       "      <th>first_name</th>\n",
       "      <th>mid_init</th>\n",
       "      <th>agency_start_date</th>\n",
       "      <th>work_location_borough</th>\n",
       "      <th>title_description</th>\n",
       "      <th>leave_status_as_of_june_30</th>\n",
       "      <th>base_salary</th>\n",
       "      <th>pay_basis</th>\n",
       "      <th>regular_hours</th>\n",
       "      <th>regular_gross_paid</th>\n",
       "      <th>ot_hours</th>\n",
       "      <th>total_ot_paid</th>\n",
       "      <th>total_other_pay</th>\n",
       "    </tr>\n",
       "  </thead>\n",
       "  <tbody>\n",
       "    <tr>\n",
       "      <th>0</th>\n",
       "      <td>2020</td>\n",
       "      <td>826</td>\n",
       "      <td>DEPT OF ENVIRONMENT PROTECTION</td>\n",
       "      <td>BROWN</td>\n",
       "      <td>TRACYANN</td>\n",
       "      <td>NaN</td>\n",
       "      <td>02/23/2004</td>\n",
       "      <td>QUEENS</td>\n",
       "      <td>COMMUNITY ASSISTANT</td>\n",
       "      <td>ACTIVE</td>\n",
       "      <td>37816.0</td>\n",
       "      <td>per Annum</td>\n",
       "      <td>2080.0</td>\n",
       "      <td>37235.48</td>\n",
       "      <td>11.00</td>\n",
       "      <td>206.04</td>\n",
       "      <td>1309.56</td>\n",
       "    </tr>\n",
       "    <tr>\n",
       "      <th>1</th>\n",
       "      <td>2020</td>\n",
       "      <td>56</td>\n",
       "      <td>POLICE DEPARTMENT</td>\n",
       "      <td>WONG</td>\n",
       "      <td>CHIWAI</td>\n",
       "      <td>NaN</td>\n",
       "      <td>07/08/2015</td>\n",
       "      <td>BROOKLYN</td>\n",
       "      <td>POLICE OFFICER</td>\n",
       "      <td>ACTIVE</td>\n",
       "      <td>63125.0</td>\n",
       "      <td>per Annum</td>\n",
       "      <td>2080.0</td>\n",
       "      <td>60758.85</td>\n",
       "      <td>343.13</td>\n",
       "      <td>10842.71</td>\n",
       "      <td>10325.31</td>\n",
       "    </tr>\n",
       "    <tr>\n",
       "      <th>2</th>\n",
       "      <td>2020</td>\n",
       "      <td>742</td>\n",
       "      <td>DEPT OF ED PEDAGOGICAL</td>\n",
       "      <td>FARRELL</td>\n",
       "      <td>TARA</td>\n",
       "      <td>E</td>\n",
       "      <td>09/09/1996</td>\n",
       "      <td>MANHATTAN</td>\n",
       "      <td>TEACHER SPECIAL EDUCATION</td>\n",
       "      <td>ACTIVE</td>\n",
       "      <td>121226.0</td>\n",
       "      <td>per Annum</td>\n",
       "      <td>0.0</td>\n",
       "      <td>118638.72</td>\n",
       "      <td>0.00</td>\n",
       "      <td>0.00</td>\n",
       "      <td>13069.69</td>\n",
       "    </tr>\n",
       "    <tr>\n",
       "      <th>3</th>\n",
       "      <td>2020</td>\n",
       "      <td>827</td>\n",
       "      <td>DEPARTMENT OF SANITATION</td>\n",
       "      <td>ATTANASIO</td>\n",
       "      <td>JOSEPH</td>\n",
       "      <td>NaN</td>\n",
       "      <td>10/18/1999</td>\n",
       "      <td>QUEENS</td>\n",
       "      <td>SANITATION WORKER</td>\n",
       "      <td>ACTIVE</td>\n",
       "      <td>77318.0</td>\n",
       "      <td>per Annum</td>\n",
       "      <td>2080.0</td>\n",
       "      <td>75833.83</td>\n",
       "      <td>455.50</td>\n",
       "      <td>28225.89</td>\n",
       "      <td>17602.11</td>\n",
       "    </tr>\n",
       "    <tr>\n",
       "      <th>4</th>\n",
       "      <td>2020</td>\n",
       "      <td>744</td>\n",
       "      <td>DEPT OF ED PARA PROFESSIONALS</td>\n",
       "      <td>MCNEIL</td>\n",
       "      <td>GLORIA</td>\n",
       "      <td>D</td>\n",
       "      <td>09/28/1989</td>\n",
       "      <td>MANHATTAN</td>\n",
       "      <td>ANNUAL ED PARA</td>\n",
       "      <td>ACTIVE</td>\n",
       "      <td>46333.0</td>\n",
       "      <td>per Annum</td>\n",
       "      <td>0.0</td>\n",
       "      <td>45344.28</td>\n",
       "      <td>0.00</td>\n",
       "      <td>0.00</td>\n",
       "      <td>5076.22</td>\n",
       "    </tr>\n",
       "  </tbody>\n",
       "</table>\n",
       "</div>"
      ],
      "text/plain": [
       "   fiscal_year  payroll_number                     agency_name  last_name  \\\n",
       "0         2020             826  DEPT OF ENVIRONMENT PROTECTION      BROWN   \n",
       "1         2020              56               POLICE DEPARTMENT       WONG   \n",
       "2         2020             742          DEPT OF ED PEDAGOGICAL    FARRELL   \n",
       "3         2020             827        DEPARTMENT OF SANITATION  ATTANASIO   \n",
       "4         2020             744   DEPT OF ED PARA PROFESSIONALS     MCNEIL   \n",
       "\n",
       "  first_name mid_init agency_start_date work_location_borough  \\\n",
       "0   TRACYANN      NaN        02/23/2004                QUEENS   \n",
       "1     CHIWAI      NaN        07/08/2015              BROOKLYN   \n",
       "2       TARA        E        09/09/1996             MANHATTAN   \n",
       "3     JOSEPH      NaN        10/18/1999                QUEENS   \n",
       "4     GLORIA        D        09/28/1989             MANHATTAN   \n",
       "\n",
       "           title_description leave_status_as_of_june_30  base_salary  \\\n",
       "0        COMMUNITY ASSISTANT                     ACTIVE      37816.0   \n",
       "1             POLICE OFFICER                     ACTIVE      63125.0   \n",
       "2  TEACHER SPECIAL EDUCATION                     ACTIVE     121226.0   \n",
       "3          SANITATION WORKER                     ACTIVE      77318.0   \n",
       "4             ANNUAL ED PARA                     ACTIVE      46333.0   \n",
       "\n",
       "   pay_basis  regular_hours  regular_gross_paid  ot_hours  total_ot_paid  \\\n",
       "0  per Annum         2080.0            37235.48     11.00         206.04   \n",
       "1  per Annum         2080.0            60758.85    343.13       10842.71   \n",
       "2  per Annum            0.0           118638.72      0.00           0.00   \n",
       "3  per Annum         2080.0            75833.83    455.50       28225.89   \n",
       "4  per Annum            0.0            45344.28      0.00           0.00   \n",
       "\n",
       "   total_other_pay  \n",
       "0          1309.56  \n",
       "1         10325.31  \n",
       "2         13069.69  \n",
       "3         17602.11  \n",
       "4          5076.22  "
      ]
     },
     "execution_count": 3,
     "metadata": {},
     "output_type": "execute_result"
    }
   ],
   "source": [
    "import pandas as pd\n",
    "import seaborn as sns\n",
    "import matplotlib.pyplot as plt\n",
    "\n",
    "df = pd.read_csv('data/budget-sample.csv')\n",
    "df.head()"
   ]
  },
  {
   "cell_type": "code",
   "execution_count": 4,
   "id": "c1b11da8",
   "metadata": {},
   "outputs": [
    {
     "data": {
      "text/plain": [
       "<AxesSubplot:xlabel='base_salary', ylabel='Count'>"
      ]
     },
     "execution_count": 4,
     "metadata": {},
     "output_type": "execute_result"
    },
    {
     "data": {
      "image/png": "[encoded data removed]",
      "text/plain": [
       "<Figure size 432x288 with 1 Axes>"
      ]
     },
     "metadata": {
      "needs_background": "light"
     },
     "output_type": "display_data"
    }
   ],
   "source": [
    "sns.histplot(data = df['base_salary'])"
   ]
  },
  {
   "cell_type": "code",
   "execution_count": 5,
   "id": "68756718",
   "metadata": {},
   "outputs": [
    {
     "name": "stdout",
     "output_type": "stream",
     "text": [
      "Base salariy is skewed right\n"
     ]
    }
   ],
   "source": [
    "print(\"Base salariy is skewed right\")"
   ]
  },
  {
   "cell_type": "code",
   "execution_count": 6,
   "id": "9e07ef12",
   "metadata": {},
   "outputs": [
    {
     "data": {
      "text/plain": [
       "<AxesSubplot:xlabel='base_salary'>"
      ]
     },
     "execution_count": 6,
     "metadata": {},
     "output_type": "execute_result"
    },
    {
     "data": {
      "image/png": "[encoded data removed]",
      "text/plain": [
       "<Figure size 432x288 with 1 Axes>"
      ]
     },
     "metadata": {
      "needs_background": "light"
     },
     "output_type": "display_data"
    }
   ],
   "source": [
    "sns.boxplot(x = df['base_salary'])"
   ]
  },
  {
   "cell_type": "code",
   "execution_count": 7,
   "id": "7ee5a10a",
   "metadata": {},
   "outputs": [
    {
     "name": "stdout",
     "output_type": "stream",
     "text": [
      "Most of peoples salary ranges from 50,000 to around 90,000 dollars\n"
     ]
    }
   ],
   "source": [
    "print('Most of peoples salary ranges from 50,000 to around 90,000 dollars')"
   ]
  },
  {
   "cell_type": "code",
   "execution_count": 8,
   "id": "80c76d84",
   "metadata": {},
   "outputs": [
    {
     "data": {
      "text/plain": [
       "<AxesSubplot:xlabel='base_salary', ylabel='work_location_borough'>"
      ]
     },
     "execution_count": 8,
     "metadata": {},
     "output_type": "execute_result"
    },
    {
     "data": {
      "image/png": "[encoded data removed]",
      "text/plain": [
       "<Figure size 432x288 with 1 Axes>"
      ]
     },
     "metadata": {
      "needs_background": "light"
     },
     "output_type": "display_data"
    }
   ],
   "source": [
    "sns.boxplot(x = df['base_salary'],y = df['work_location_borough'])"
   ]
  },
  {
   "cell_type": "markdown",
   "id": "5fe01082",
   "metadata": {},
   "source": [
    "# Using the BX-Police.csv data:\n",
    "* create a time series chart illustrating their average base salary over time (by fiscal_year).  \n",
    "* What trend does this show? \n",
    "* Why do you think the trend exists?\n"
   ]
  },
  {
   "cell_type": "code",
   "execution_count": 9,
   "id": "dc30ddab",
   "metadata": {},
   "outputs": [
    {
     "data": {
      "text/html": [
       "<div>\n",
       "<style scoped>\n",
       "    .dataframe tbody tr th:only-of-type {\n",
       "        vertical-align: middle;\n",
       "    }\n",
       "\n",
       "    .dataframe tbody tr th {\n",
       "        vertical-align: top;\n",
       "    }\n",
       "\n",
       "    .dataframe thead th {\n",
       "        text-align: right;\n",
       "    }\n",
       "</style>\n",
       "<table border=\"1\" class=\"dataframe\">\n",
       "  <thead>\n",
       "    <tr style=\"text-align: right;\">\n",
       "      <th></th>\n",
       "      <th>fiscal_year</th>\n",
       "      <th>payroll_number</th>\n",
       "      <th>agency_name</th>\n",
       "      <th>last_name</th>\n",
       "      <th>first_name</th>\n",
       "      <th>mid_init</th>\n",
       "      <th>agency_start_date</th>\n",
       "      <th>work_location_borough</th>\n",
       "      <th>title_description</th>\n",
       "      <th>leave_status_as_of_june_30</th>\n",
       "      <th>base_salary</th>\n",
       "      <th>pay_basis</th>\n",
       "      <th>regular_hours</th>\n",
       "      <th>regular_gross_paid</th>\n",
       "      <th>ot_hours</th>\n",
       "      <th>total_ot_paid</th>\n",
       "      <th>total_other_pay</th>\n",
       "    </tr>\n",
       "  </thead>\n",
       "  <tbody>\n",
       "    <tr>\n",
       "      <th>0</th>\n",
       "      <td>2019</td>\n",
       "      <td>56.0</td>\n",
       "      <td>POLICE DEPARTMENT</td>\n",
       "      <td>GUZMAN</td>\n",
       "      <td>ALBERTO</td>\n",
       "      <td>NaN</td>\n",
       "      <td>07/05/2017</td>\n",
       "      <td>BRONX</td>\n",
       "      <td>POLICE OFFICER</td>\n",
       "      <td>ACTIVE</td>\n",
       "      <td>45000.0</td>\n",
       "      <td>per Annum</td>\n",
       "      <td>2040.00</td>\n",
       "      <td>43541.17</td>\n",
       "      <td>243.83</td>\n",
       "      <td>8597.10</td>\n",
       "      <td>3710.14</td>\n",
       "    </tr>\n",
       "    <tr>\n",
       "      <th>1</th>\n",
       "      <td>2015</td>\n",
       "      <td>NaN</td>\n",
       "      <td>POLICE DEPARTMENT</td>\n",
       "      <td>DERASMO</td>\n",
       "      <td>MARIELENA</td>\n",
       "      <td>NaN</td>\n",
       "      <td>07/06/2010</td>\n",
       "      <td>BRONX</td>\n",
       "      <td>POLICE OFFICER</td>\n",
       "      <td>ACTIVE</td>\n",
       "      <td>56609.0</td>\n",
       "      <td>per Annum</td>\n",
       "      <td>2085.72</td>\n",
       "      <td>54578.49</td>\n",
       "      <td>335.83</td>\n",
       "      <td>13344.33</td>\n",
       "      <td>4387.03</td>\n",
       "    </tr>\n",
       "    <tr>\n",
       "      <th>2</th>\n",
       "      <td>2018</td>\n",
       "      <td>56.0</td>\n",
       "      <td>POLICE DEPARTMENT</td>\n",
       "      <td>GARCES</td>\n",
       "      <td>MICHAEL</td>\n",
       "      <td>A</td>\n",
       "      <td>01/09/2013</td>\n",
       "      <td>BRONX</td>\n",
       "      <td>POLICE OFFICER</td>\n",
       "      <td>ACTIVE</td>\n",
       "      <td>63125.0</td>\n",
       "      <td>per Annum</td>\n",
       "      <td>2045.72</td>\n",
       "      <td>62809.14</td>\n",
       "      <td>145.00</td>\n",
       "      <td>7349.27</td>\n",
       "      <td>9801.34</td>\n",
       "    </tr>\n",
       "    <tr>\n",
       "      <th>3</th>\n",
       "      <td>2017</td>\n",
       "      <td>NaN</td>\n",
       "      <td>POLICE DEPARTMENT</td>\n",
       "      <td>ROSSI</td>\n",
       "      <td>THOMAS</td>\n",
       "      <td>C</td>\n",
       "      <td>01/06/2016</td>\n",
       "      <td>BRONX</td>\n",
       "      <td>POLICE OFFICER</td>\n",
       "      <td>ACTIVE</td>\n",
       "      <td>46805.0</td>\n",
       "      <td>per Annum</td>\n",
       "      <td>2051.43</td>\n",
       "      <td>49411.14</td>\n",
       "      <td>121.00</td>\n",
       "      <td>4213.27</td>\n",
       "      <td>6490.72</td>\n",
       "    </tr>\n",
       "    <tr>\n",
       "      <th>4</th>\n",
       "      <td>2019</td>\n",
       "      <td>56.0</td>\n",
       "      <td>POLICE DEPARTMENT</td>\n",
       "      <td>GARRETT</td>\n",
       "      <td>DENISE</td>\n",
       "      <td>NaN</td>\n",
       "      <td>05/30/2001</td>\n",
       "      <td>BRONX</td>\n",
       "      <td>SCHOOL SAFETY AGENT</td>\n",
       "      <td>ACTIVE</td>\n",
       "      <td>46737.0</td>\n",
       "      <td>per Annum</td>\n",
       "      <td>2040.00</td>\n",
       "      <td>46608.91</td>\n",
       "      <td>0.00</td>\n",
       "      <td>0.00</td>\n",
       "      <td>1202.56</td>\n",
       "    </tr>\n",
       "  </tbody>\n",
       "</table>\n",
       "</div>"
      ],
      "text/plain": [
       "   fiscal_year  payroll_number        agency_name last_name first_name  \\\n",
       "0         2019            56.0  POLICE DEPARTMENT    GUZMAN    ALBERTO   \n",
       "1         2015             NaN  POLICE DEPARTMENT   DERASMO  MARIELENA   \n",
       "2         2018            56.0  POLICE DEPARTMENT    GARCES    MICHAEL   \n",
       "3         2017             NaN  POLICE DEPARTMENT     ROSSI     THOMAS   \n",
       "4         2019            56.0  POLICE DEPARTMENT   GARRETT     DENISE   \n",
       "\n",
       "  mid_init agency_start_date work_location_borough    title_description  \\\n",
       "0      NaN        07/05/2017                 BRONX       POLICE OFFICER   \n",
       "1      NaN        07/06/2010                 BRONX       POLICE OFFICER   \n",
       "2        A        01/09/2013                 BRONX       POLICE OFFICER   \n",
       "3        C        01/06/2016                 BRONX       POLICE OFFICER   \n",
       "4      NaN        05/30/2001                 BRONX  SCHOOL SAFETY AGENT   \n",
       "\n",
       "  leave_status_as_of_june_30  base_salary  pay_basis  regular_hours  \\\n",
       "0                     ACTIVE      45000.0  per Annum        2040.00   \n",
       "1                     ACTIVE      56609.0  per Annum        2085.72   \n",
       "2                     ACTIVE      63125.0  per Annum        2045.72   \n",
       "3                     ACTIVE      46805.0  per Annum        2051.43   \n",
       "4                     ACTIVE      46737.0  per Annum        2040.00   \n",
       "\n",
       "   regular_gross_paid  ot_hours  total_ot_paid  total_other_pay  \n",
       "0            43541.17    243.83        8597.10          3710.14  \n",
       "1            54578.49    335.83       13344.33          4387.03  \n",
       "2            62809.14    145.00        7349.27          9801.34  \n",
       "3            49411.14    121.00        4213.27          6490.72  \n",
       "4            46608.91      0.00           0.00          1202.56  "
      ]
     },
     "execution_count": 9,
     "metadata": {},
     "output_type": "execute_result"
    }
   ],
   "source": [
    "df = pd.read_csv('data/BX-Police.csv')\n",
    "df.head()"
   ]
  },
  {
   "cell_type": "code",
   "execution_count": 10,
   "id": "a4811143",
   "metadata": {},
   "outputs": [
    {
     "data": {
      "text/plain": [
       "<AxesSubplot:xlabel='fiscal_year'>"
      ]
     },
     "execution_count": 10,
     "metadata": {},
     "output_type": "execute_result"
    },
    {
     "data": {
      "image/png": "[encoded data removed]",
      "text/plain": [
       "<Figure size 432x288 with 1 Axes>"
      ]
     },
     "metadata": {
      "needs_background": "light"
     },
     "output_type": "display_data"
    }
   ],
   "source": [
    "sns.lineplot(x = df['fiscal_year'],y = df['base_salary'].values)"
   ]
  },
  {
   "cell_type": "code",
   "execution_count": 11,
   "id": "b213c02b",
   "metadata": {},
   "outputs": [
    {
     "name": "stdout",
     "output_type": "stream",
     "text": [
      "The trend shows base salaries going up every year, makes sense as inflation grows.\n"
     ]
    }
   ],
   "source": [
    "print(\"The trend shows base salaries going up every year, makes sense as inflation grows.\")"
   ]
  },
  {
   "cell_type": "markdown",
   "id": "9d3eb95b",
   "metadata": {},
   "source": [
    "# Using Stocks.csv\n",
    "* Tell me a story about the Google stock for the year. \n",
    "* Any story you'd like to tell. \n"
   ]
  },
  {
   "cell_type": "code",
   "execution_count": 12,
   "id": "46f2609c",
   "metadata": {},
   "outputs": [
    {
     "data": {
      "text/html": [
       "<div>\n",
       "<style scoped>\n",
       "    .dataframe tbody tr th:only-of-type {\n",
       "        vertical-align: middle;\n",
       "    }\n",
       "\n",
       "    .dataframe tbody tr th {\n",
       "        vertical-align: top;\n",
       "    }\n",
       "\n",
       "    .dataframe thead th {\n",
       "        text-align: right;\n",
       "    }\n",
       "</style>\n",
       "<table border=\"1\" class=\"dataframe\">\n",
       "  <thead>\n",
       "    <tr style=\"text-align: right;\">\n",
       "      <th></th>\n",
       "      <th>Date</th>\n",
       "      <th>Volume</th>\n",
       "      <th>High</th>\n",
       "      <th>Low</th>\n",
       "      <th>Open</th>\n",
       "      <th>Close</th>\n",
       "      <th>Adj Close</th>\n",
       "      <th>Ticker</th>\n",
       "    </tr>\n",
       "  </thead>\n",
       "  <tbody>\n",
       "    <tr>\n",
       "      <th>0</th>\n",
       "      <td>2021-01-04</td>\n",
       "      <td>1901900</td>\n",
       "      <td>1760.650024</td>\n",
       "      <td>1707.849976</td>\n",
       "      <td>1757.540039</td>\n",
       "      <td>1728.239990</td>\n",
       "      <td>1728.239990</td>\n",
       "      <td>GOOG</td>\n",
       "    </tr>\n",
       "    <tr>\n",
       "      <th>1</th>\n",
       "      <td>2021-01-05</td>\n",
       "      <td>1145300</td>\n",
       "      <td>1747.670044</td>\n",
       "      <td>1718.015015</td>\n",
       "      <td>1725.000000</td>\n",
       "      <td>1740.920044</td>\n",
       "      <td>1740.920044</td>\n",
       "      <td>GOOG</td>\n",
       "    </tr>\n",
       "    <tr>\n",
       "      <th>2</th>\n",
       "      <td>2021-01-06</td>\n",
       "      <td>2602100</td>\n",
       "      <td>1748.000000</td>\n",
       "      <td>1699.000000</td>\n",
       "      <td>1702.630005</td>\n",
       "      <td>1735.290039</td>\n",
       "      <td>1735.290039</td>\n",
       "      <td>GOOG</td>\n",
       "    </tr>\n",
       "    <tr>\n",
       "      <th>3</th>\n",
       "      <td>2021-01-07</td>\n",
       "      <td>2265000</td>\n",
       "      <td>1788.400024</td>\n",
       "      <td>1737.050049</td>\n",
       "      <td>1740.060059</td>\n",
       "      <td>1787.250000</td>\n",
       "      <td>1787.250000</td>\n",
       "      <td>GOOG</td>\n",
       "    </tr>\n",
       "    <tr>\n",
       "      <th>4</th>\n",
       "      <td>2021-01-08</td>\n",
       "      <td>2050600</td>\n",
       "      <td>1809.839966</td>\n",
       "      <td>1773.535034</td>\n",
       "      <td>1787.979980</td>\n",
       "      <td>1807.209961</td>\n",
       "      <td>1807.209961</td>\n",
       "      <td>GOOG</td>\n",
       "    </tr>\n",
       "  </tbody>\n",
       "</table>\n",
       "</div>"
      ],
      "text/plain": [
       "         Date   Volume         High          Low         Open        Close  \\\n",
       "0  2021-01-04  1901900  1760.650024  1707.849976  1757.540039  1728.239990   \n",
       "1  2021-01-05  1145300  1747.670044  1718.015015  1725.000000  1740.920044   \n",
       "2  2021-01-06  2602100  1748.000000  1699.000000  1702.630005  1735.290039   \n",
       "3  2021-01-07  2265000  1788.400024  1737.050049  1740.060059  1787.250000   \n",
       "4  2021-01-08  2050600  1809.839966  1773.535034  1787.979980  1807.209961   \n",
       "\n",
       "     Adj Close Ticker  \n",
       "0  1728.239990   GOOG  \n",
       "1  1740.920044   GOOG  \n",
       "2  1735.290039   GOOG  \n",
       "3  1787.250000   GOOG  \n",
       "4  1807.209961   GOOG  "
      ]
     },
     "execution_count": 12,
     "metadata": {},
     "output_type": "execute_result"
    }
   ],
   "source": [
    "df = pd.read_csv(\"data/Stocks.csv\")\n",
    "df.head()"
   ]
  },
  {
   "cell_type": "code",
   "execution_count": 13,
   "id": "e42382f5",
   "metadata": {},
   "outputs": [
    {
     "data": {
      "text/plain": [
       "<AxesSubplot:xlabel='Date', ylabel='High'>"
      ]
     },
     "execution_count": 13,
     "metadata": {},
     "output_type": "execute_result"
    },
    {
     "data": {
      "image/png": "[encoded data removed]",
      "text/plain": [
       "<Figure size 432x288 with 1 Axes>"
      ]
     },
     "metadata": {
      "needs_background": "light"
     },
     "output_type": "display_data"
    }
   ],
   "source": [
    "sns.lineplot(x = df['Date'], y = df['High'])"
   ]
  },
  {
   "cell_type": "code",
   "execution_count": 14,
   "id": "9b4815c1",
   "metadata": {},
   "outputs": [
    {
     "name": "stdout",
     "output_type": "stream",
     "text": [
      "The Highs for the stock went up over time\n"
     ]
    }
   ],
   "source": [
    "print(\"The Highs for the stock went up over time\")"
   ]
  },
  {
   "cell_type": "markdown",
   "id": "83c6113b",
   "metadata": {},
   "source": [
    "# Using Sales.csv \n",
    "* make a time series chart that shows the sales for each item over the past 12 months.  \n",
    "* What does this tell you about the items.  \n",
    "* Which item would you recommend they push more of and which item/s would you recommend they stop selling?\n",
    "* show what percentage of each item contributes to total sales. \n"
   ]
  },
  {
   "cell_type": "code",
   "execution_count": 15,
   "id": "a26211af",
   "metadata": {},
   "outputs": [
    {
     "data": {
      "text/html": [
       "<div>\n",
       "<style scoped>\n",
       "    .dataframe tbody tr th:only-of-type {\n",
       "        vertical-align: middle;\n",
       "    }\n",
       "\n",
       "    .dataframe tbody tr th {\n",
       "        vertical-align: top;\n",
       "    }\n",
       "\n",
       "    .dataframe thead th {\n",
       "        text-align: right;\n",
       "    }\n",
       "</style>\n",
       "<table border=\"1\" class=\"dataframe\">\n",
       "  <thead>\n",
       "    <tr style=\"text-align: right;\">\n",
       "      <th></th>\n",
       "      <th>month_number</th>\n",
       "      <th>facecream</th>\n",
       "      <th>facewash</th>\n",
       "      <th>toothpaste</th>\n",
       "      <th>bathingsoap</th>\n",
       "      <th>shampoo</th>\n",
       "      <th>moisturizer</th>\n",
       "    </tr>\n",
       "  </thead>\n",
       "  <tbody>\n",
       "    <tr>\n",
       "      <th>0</th>\n",
       "      <td>1</td>\n",
       "      <td>2500</td>\n",
       "      <td>1500</td>\n",
       "      <td>5200</td>\n",
       "      <td>9200</td>\n",
       "      <td>1200</td>\n",
       "      <td>1500</td>\n",
       "    </tr>\n",
       "    <tr>\n",
       "      <th>1</th>\n",
       "      <td>2</td>\n",
       "      <td>2630</td>\n",
       "      <td>1200</td>\n",
       "      <td>5100</td>\n",
       "      <td>6100</td>\n",
       "      <td>2100</td>\n",
       "      <td>1200</td>\n",
       "    </tr>\n",
       "    <tr>\n",
       "      <th>2</th>\n",
       "      <td>3</td>\n",
       "      <td>2140</td>\n",
       "      <td>1340</td>\n",
       "      <td>4550</td>\n",
       "      <td>9550</td>\n",
       "      <td>3550</td>\n",
       "      <td>1340</td>\n",
       "    </tr>\n",
       "    <tr>\n",
       "      <th>3</th>\n",
       "      <td>4</td>\n",
       "      <td>3400</td>\n",
       "      <td>1130</td>\n",
       "      <td>5870</td>\n",
       "      <td>8870</td>\n",
       "      <td>1870</td>\n",
       "      <td>1130</td>\n",
       "    </tr>\n",
       "    <tr>\n",
       "      <th>4</th>\n",
       "      <td>5</td>\n",
       "      <td>3600</td>\n",
       "      <td>1740</td>\n",
       "      <td>4560</td>\n",
       "      <td>7760</td>\n",
       "      <td>1560</td>\n",
       "      <td>1740</td>\n",
       "    </tr>\n",
       "  </tbody>\n",
       "</table>\n",
       "</div>"
      ],
      "text/plain": [
       "   month_number  facecream  facewash  toothpaste  bathingsoap  shampoo  \\\n",
       "0             1       2500      1500        5200         9200     1200   \n",
       "1             2       2630      1200        5100         6100     2100   \n",
       "2             3       2140      1340        4550         9550     3550   \n",
       "3             4       3400      1130        5870         8870     1870   \n",
       "4             5       3600      1740        4560         7760     1560   \n",
       "\n",
       "   moisturizer  \n",
       "0         1500  \n",
       "1         1200  \n",
       "2         1340  \n",
       "3         1130  \n",
       "4         1740  "
      ]
     },
     "execution_count": 15,
     "metadata": {},
     "output_type": "execute_result"
    }
   ],
   "source": [
    "df = pd.read_csv(\"data/Sales.csv\")\n",
    "df.head()"
   ]
  },
  {
   "cell_type": "code",
   "execution_count": 16,
   "id": "766d6879",
   "metadata": {},
   "outputs": [
    {
     "data": {
      "text/plain": [
       "<AxesSubplot:>"
      ]
     },
     "execution_count": 16,
     "metadata": {},
     "output_type": "execute_result"
    },
    {
     "data": {
      "image/png": "[encoded data removed]",
      "text/plain": [
       "<Figure size 432x288 with 1 Axes>"
      ]
     },
     "metadata": {
      "needs_background": "light"
     },
     "output_type": "display_data"
    }
   ],
   "source": [
    "items = df.columns[1:]\n",
    "sns.lineplot(data=df[items])"
   ]
  },
  {
   "cell_type": "code",
   "execution_count": 17,
   "id": "77581f31",
   "metadata": {},
   "outputs": [
    {
     "name": "stdout",
     "output_type": "stream",
     "text": [
      "Volume being sold of each item\n",
      "Push bathing soap and stop selling moisturizer\n"
     ]
    }
   ],
   "source": [
    "print(\"Volume being sold of each item\")\n",
    "print('Push bathing soap and stop selling moisturizer')"
   ]
  },
  {
   "cell_type": "code",
   "execution_count": 24,
   "id": "aeab79be",
   "metadata": {},
   "outputs": [
    {
     "data": {
      "text/plain": [
       "facecream      12.277453\n",
       "facewash        6.592722\n",
       "toothpaste     24.893178\n",
       "bathingsoap    40.596069\n",
       "shampoo         9.047856\n",
       "moisturizer     6.592722\n",
       "dtype: float64"
      ]
     },
     "execution_count": 24,
     "metadata": {},
     "output_type": "execute_result"
    }
   ],
   "source": [
    "percentages = (df[items].sum() / df[items].sum().sum())*100\n",
    "percentages"
   ]
  }
 ],
 "metadata": {
  "kernelspec": {
   "display_name": "Python 3.9.7 ('base')",
   "language": "python",
   "name": "python3"
  },
  "language_info": {
   "codemirror_mode": {
    "name": "ipython",
    "version": 3
   },
   "file_extension": ".py",
   "mimetype": "text/x-python",
   "name": "python",
   "nbconvert_exporter": "python",
   "pygments_lexer": "ipython3",
   "version": "3.9.7"
  },
  "vscode": {
   "interpreter": {
    "hash": "d422f2948c5dad1d9af385b0dc222fbae095116b06bf3332fe270b080b557eb3"
   }
  }
 },
 "nbformat": 4,
 "nbformat_minor": 5
}
